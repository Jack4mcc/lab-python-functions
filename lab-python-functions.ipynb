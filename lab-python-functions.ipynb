{
 "cells": [
  {
   "cell_type": "markdown",
   "id": "25d7736c-ba17-4aff-b6bb-66eba20fbf4e",
   "metadata": {},
   "source": [
    "# Lab | Functions"
   ]
  },
  {
   "cell_type": "markdown",
   "id": "0c581062-8967-4d93-b06e-62833222f930",
   "metadata": {
    "tags": []
   },
   "source": [
    "## Exercise: Managing Customer Orders with Functions\n",
    "\n",
    "In the previous exercise, you improved the code for managing customer orders by using loops and flow control. Now, let's take it a step further and refactor the code by introducing functions.\n",
    "\n",
    "Follow the steps below to complete the exercise:\n",
    "\n",
    "1. Define a function named `initialize_inventory` that takes `products` as a parameter. Inside the function, implement the code for initializing the inventory dictionary using a loop and user input.\n",
    "\n",
    "2. Define a function named `get_customer_orders` that takes no parameters. Inside the function, implement the code for prompting the user to enter the product names using a loop. The function should return the `customer_orders` set.\n",
    "\n",
    "3. Define a function named `update_inventory` that takes `customer_orders` and `inventory` as parameters. Inside the function, implement the code for updating the inventory dictionary based on the customer orders.\n",
    "\n",
    "4. Define a function named `calculate_order_statistics` that takes `customer_orders` and `products` as parameters. Inside the function, implement the code for calculating the order statistics (total products ordered, and percentage of unique products ordered). The function should return these values.\n",
    "\n",
    "5. Define a function named `print_order_statistics` that takes `order_statistics` as a parameter. Inside the function, implement the code for printing the order statistics.\n",
    "\n",
    "6. Define a function named `print_updated_inventory` that takes `inventory` as a parameter. Inside the function, implement the code for printing the updated inventory.\n",
    "\n",
    "7. Call the functions in the appropriate sequence to execute the program and manage customer orders.\n",
    "\n",
    "Hints for functions:\n",
    "\n",
    "- Consider the input parameters required for each function and their return values.\n",
    "- Utilize function parameters and return values to transfer data between functions.\n",
    "- Test your functions individually to ensure they work correctly.\n",
    "\n",
    "\n"
   ]
  },
  {
   "cell_type": "code",
   "execution_count": 64,
   "id": "9d359c2a-c201-422b-a4e6-9899f2990a8c",
   "metadata": {},
   "outputs": [],
   "source": [
    "products = [\"t-shirt\", \"mug\", \"hat\", \"book\", \"keychain\"]"
   ]
  },
  {
   "cell_type": "code",
   "execution_count": 1,
   "id": "73b9a6b8-348b-4c7e-94cf-b18576f617eb",
   "metadata": {},
   "outputs": [],
   "source": [
    "def initialize_inventory(products):\n",
    "    inventory = {}\n",
    "    for product in products:\n",
    "        message = int(input(f\"Enter the quantity of {product}\"))\n",
    "        inventory[product] = message\n",
    "    return inventory\n",
    "    "
   ]
  },
  {
   "cell_type": "code",
   "execution_count": 25,
   "id": "63d6feb0-8618-4096-9305-98c944d36759",
   "metadata": {},
   "outputs": [
    {
     "ename": "SyntaxError",
     "evalue": "invalid syntax (3345078930.py, line 1)",
     "output_type": "error",
     "traceback": [
      "\u001b[1;36m  Cell \u001b[1;32mIn[25], line 1\u001b[1;36m\u001b[0m\n\u001b[1;33m    initialize_inventorproducts = [\"t-shirt\", \"mug\", \"hat\", \"book\", \"keychain\"]y(products)\u001b[0m\n\u001b[1;37m                                                                               ^\u001b[0m\n\u001b[1;31mSyntaxError\u001b[0m\u001b[1;31m:\u001b[0m invalid syntax\n"
     ]
    }
   ],
   "source": [
    "initialize_inventorproducts = [\"t-shirt\", \"mug\", \"hat\", \"book\", \"keychain\"]y(products)"
   ]
  },
  {
   "cell_type": "code",
   "execution_count": 27,
   "id": "8fb972a5-63e6-493c-8eda-d239947b4b36",
   "metadata": {},
   "outputs": [],
   "source": [
    "customer_orders = set()"
   ]
  },
  {
   "cell_type": "code",
   "execution_count": 5,
   "id": "3dd8ba50-a3ee-4916-817e-07dcc6c4c242",
   "metadata": {},
   "outputs": [
    {
     "name": "stdin",
     "output_type": "stream",
     "text": [
      "Enter the name of a product that a customer wants to order:  mug\n",
      "Do you want to add another product? (yes/no):  yes\n",
      "Enter the name of a product that a customer wants to order:  mug\n",
      "Do you want to add another product? (yes/no):  no\n"
     ]
    },
    {
     "ename": "SyntaxError",
     "evalue": "'return' outside function (1467801990.py, line 7)",
     "output_type": "error",
     "traceback": [
      "\u001b[1;36m  Cell \u001b[1;32mIn[5], line 7\u001b[1;36m\u001b[0m\n\u001b[1;33m    return customer_orders\u001b[0m\n\u001b[1;37m    ^\u001b[0m\n\u001b[1;31mSyntaxError\u001b[0m\u001b[1;31m:\u001b[0m 'return' outside function\n"
     ]
    }
   ],
   "source": [
    "customer_orders = set()\n",
    "add_another = 'yes'\n",
    "while add_another.lower() == 'yes':\n",
    "    product_name = input(\"Enter the name of a product that a customer wants to order: \")\n",
    "    customer_orders.add(product_name)\n",
    "    add_another = input(\"Do you want to add another product? (yes/no): \")\n",
    "return customer_orders"
   ]
  },
  {
   "cell_type": "code",
   "execution_count": 114,
   "id": "5cdb4a90-1943-44dc-90e0-fc3af0e79285",
   "metadata": {},
   "outputs": [],
   "source": [
    "def get_customer_orders():\n",
    "    message = input(\"enter product name\")\n",
    "    message = input(\"do you want another product?\")\n",
    "    if message == \"yes\":\n",
    "        input(\"enter product name\")\n",
    "    else:\n",
    "        print(\"thank you\")"
   ]
  },
  {
   "cell_type": "code",
   "execution_count": 118,
   "id": "51b32115-2b8e-4d31-909c-6bdd0125f69e",
   "metadata": {},
   "outputs": [
    {
     "name": "stdin",
     "output_type": "stream",
     "text": [
      "enter product name mg\n",
      "do you want another product? no\n"
     ]
    },
    {
     "name": "stdout",
     "output_type": "stream",
     "text": [
      "thank you\n"
     ]
    }
   ],
   "source": [
    "get_customer_orders()"
   ]
  },
  {
   "cell_type": "code",
   "execution_count": 9,
   "id": "b2d6b31b-7067-47f0-850d-203373bf5c32",
   "metadata": {},
   "outputs": [],
   "source": [
    "def update_inventory(customer_orders, inventory):\n",
    "    for product in customer_orders:\n",
    "        if product in inventory:\n",
    "            inventory[product] -= 1\n",
    "    return inventory"
   ]
  },
  {
   "cell_type": "code",
   "execution_count": 122,
   "id": "91748656-7f30-43a8-8e12-7d8026520f8f",
   "metadata": {},
   "outputs": [
    {
     "ename": "SyntaxError",
     "evalue": "invalid syntax (752106634.py, line 3)",
     "output_type": "error",
     "traceback": [
      "\u001b[1;36m  Cell \u001b[1;32mIn[122], line 3\u001b[1;36m\u001b[0m\n\u001b[1;33m    = customer_orders + products\u001b[0m\n\u001b[1;37m    ^\u001b[0m\n\u001b[1;31mSyntaxError\u001b[0m\u001b[1;31m:\u001b[0m invalid syntax\n"
     ]
    }
   ],
   "source": [
    "\n",
    "def update_inventory(customer_orders, inventory):\n",
    "    inventory = {}\n",
    "    = customer_orders + products\n",
    "    return inventory"
   ]
  },
  {
   "cell_type": "code",
   "execution_count": 144,
   "id": "17d78693-db3d-4472-98a3-1ac32abd0fde",
   "metadata": {},
   "outputs": [],
   "source": [
    "def calculate_order_statistics(customers_orders, products):\n",
    "    total = customer_orders + products\n",
    "    return total\n",
    "    "
   ]
  },
  {
   "cell_type": "code",
   "execution_count": 11,
   "id": "17096423-c160-4985-b4b8-ffb050f61392",
   "metadata": {},
   "outputs": [],
   "source": [
    "def calculate_order_statistics(customer_orders, products):\n",
    "    total_products_ordered = len(customer_orders)\n",
    "    percentage_ordered = (total_products_ordered / len(products)) * 100\n",
    "    return total_products_ordered, percentage_ordered"
   ]
  },
  {
   "cell_type": "code",
   "execution_count": 15,
   "id": "54b22d7d-2aa0-42d9-9fb7-e02c6973f1af",
   "metadata": {},
   "outputs": [],
   "source": [
    "\n",
    "def print_order_statistics(order_statistics):\n",
    "    print(order_statistics)\n",
    "    "
   ]
  },
  {
   "cell_type": "code",
   "execution_count": 11,
   "id": "9f8544f0-046d-4959-8cfd-0340e7244259",
   "metadata": {},
   "outputs": [
    {
     "name": "stdout",
     "output_type": "stream",
     "text": [
      "5\n"
     ]
    }
   ],
   "source": [
    "print_order_statistics(5)"
   ]
  },
  {
   "cell_type": "code",
   "execution_count": 13,
   "id": "be2bbcc6-9168-4781-940d-9386cac82dce",
   "metadata": {},
   "outputs": [],
   "source": [
    "#Define a function named `print_updated_inventory` that takes `inventory` as a parameter. Inside the function, implement the code for printing the updated inventory.\n",
    "\n",
    "def print_updated_inventory(inventory):\n",
    "     inventory = {}\n",
    "     print(inventoy)\n",
    "    "
   ]
  },
  {
   "cell_type": "code",
   "execution_count": 17,
   "id": "37017cfc-88f0-4347-acb1-c45f42b49407",
   "metadata": {},
   "outputs": [],
   "source": [
    "def print_updated_inventory(inventory):\n",
    "    print(\"Updated Inventory:\")\n",
    "    for product, quantity in inventory.items():\n",
    "        print(f\"{product}: {quantity}\")"
   ]
  },
  {
   "cell_type": "code",
   "execution_count": 17,
   "id": "6b16e6a8-3142-41c2-9be0-a85441072d1f",
   "metadata": {},
   "outputs": [
    {
     "data": {
      "text/plain": [
       "<function __main__.print_updated_inventory(inventory)>"
      ]
     },
     "execution_count": 17,
     "metadata": {},
     "output_type": "execute_result"
    }
   ],
   "source": [
    "print_updated_inventory"
   ]
  },
  {
   "cell_type": "code",
   "execution_count": null,
   "id": "b2254473-f2c9-44fa-ba19-804fde6ada2f",
   "metadata": {},
   "outputs": [],
   "source": []
  }
 ],
 "metadata": {
  "kernelspec": {
   "display_name": "Python 3 (ipykernel)",
   "language": "python",
   "name": "python3"
  },
  "language_info": {
   "codemirror_mode": {
    "name": "ipython",
    "version": 3
   },
   "file_extension": ".py",
   "mimetype": "text/x-python",
   "name": "python",
   "nbconvert_exporter": "python",
   "pygments_lexer": "ipython3",
   "version": "3.12.7"
  }
 },
 "nbformat": 4,
 "nbformat_minor": 5
}
